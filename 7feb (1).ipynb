{
 "cells": [
  {
   "cell_type": "code",
   "execution_count": 1,
   "id": "885b6efb-f284-4332-87dc-9c2149ef7a96",
   "metadata": {},
   "outputs": [],
   "source": [
    "def check_password(password):\n",
    "    regex_uppercase = r'[A-Z].*[A-z]'\n",
    "    regex_lowercase = r'[a-z].*[a-z]'\n",
    "    regex_digit = r'\\d'\n",
    "    regex_special = r'[!@#$%^&*()_+{}\\[\\]:;\\|<,>.?/~`\"].*[!@#$%^&*()_+={}\\[\\]:;\\|<,>.?/~`\"]'\n",
    "    \n",
    "    if len(password) != 10:\n",
    "        return \"invalid password\"\n",
    "    if not re.match(regex_uppercase,password):\n",
    "        return \"invalid password:At least two uppercase letters are required\"\n",
    "    if not re.match(regex_lowercase,password):\n",
    "        return \"invalid password: at least two lowercase letters are required\"\n",
    "    if not re.match(regex_digit,password):\n",
    "        return \"invalid password:atleast one digit is required\"\n",
    "    if not re.match(regex_special,password):\n",
    "        return \"invalid password: at least three special haracter are required\"\n",
    "    \n",
    "    return \"valid password\"\n",
    "        \n",
    "    \n",
    "    \n",
    "    "
   ]
  },
  {
   "cell_type": "code",
   "execution_count": 30,
   "id": "60af9366-d925-4e0c-b967-8040583ac24b",
   "metadata": {},
   "outputs": [],
   "source": [
    "string= (\"Shaad\")"
   ]
  },
  {
   "cell_type": "code",
   "execution_count": 31,
   "id": "c7b8d357-e955-42fd-8c25-73e85844c814",
   "metadata": {},
   "outputs": [],
   "source": [
    "map_object = map(lambda x:x[0] =='S',string)"
   ]
  },
  {
   "cell_type": "code",
   "execution_count": 34,
   "id": "644ca6ec-fe6d-4f95-b5ee-e2cc39dfa035",
   "metadata": {},
   "outputs": [
    {
     "name": "stdout",
     "output_type": "stream",
     "text": [
      "[True, False, False, False, False]\n"
     ]
    }
   ],
   "source": [
    "print(list(map_object))"
   ]
  },
  {
   "cell_type": "code",
   "execution_count": 11,
   "id": "dd6545a4-4639-40bd-bf90-209f03b08297",
   "metadata": {},
   "outputs": [],
   "source": [
    "st = (\"123shaad\")"
   ]
  },
  {
   "cell_type": "code",
   "execution_count": 12,
   "id": "4cb035ad-5b1a-4554-8faf-93ebc30d688c",
   "metadata": {},
   "outputs": [],
   "source": [
    "num_str=filter(str.isnumeric,st)"
   ]
  },
  {
   "cell_type": "code",
   "execution_count": 13,
   "id": "16a96258-6599-4fac-a4a1-3c40bad9db10",
   "metadata": {},
   "outputs": [
    {
     "name": "stdout",
     "output_type": "stream",
     "text": [
      "1\n",
      "2\n",
      "3\n"
     ]
    }
   ],
   "source": [
    "for i in num_str:\n",
    "    print(i)"
   ]
  },
  {
   "cell_type": "code",
   "execution_count": 66,
   "id": "be4e2d3a-89c3-46b0-9738-2b85f2554e1e",
   "metadata": {},
   "outputs": [],
   "source": [
    "l5 = [(\"mango\",99),(\"orange\",80),(\"grapes\",1000)]"
   ]
  },
  {
   "cell_type": "code",
   "execution_count": 1,
   "id": "0f87eefa-5cda-4c7d-911d-f5edce42903b",
   "metadata": {},
   "outputs": [
    {
     "ename": "NameError",
     "evalue": "name 'l5' is not defined",
     "output_type": "error",
     "traceback": [
      "\u001b[0;31m---------------------------------------------------------------------------\u001b[0m",
      "\u001b[0;31mNameError\u001b[0m                                 Traceback (most recent call last)",
      "Cell \u001b[0;32mIn[1], line 1\u001b[0m\n\u001b[0;32m----> 1\u001b[0m sorted_fruits \u001b[38;5;241m=\u001b[39m \u001b[38;5;28msorted\u001b[39m(\u001b[43ml5\u001b[49m,key \u001b[38;5;241m=\u001b[39m \u001b[38;5;28;01mlambda\u001b[39;00m l5:l5[\u001b[38;5;241m1\u001b[39m])\n",
      "\u001b[0;31mNameError\u001b[0m: name 'l5' is not defined"
     ]
    }
   ],
   "source": [
    "sorted_fruits = sorted(l5,key = lambda l5:l5[1])"
   ]
  },
  {
   "cell_type": "code",
   "execution_count": null,
   "id": "31dd0d60-b815-423e-a3a0-6527556ff8cd",
   "metadata": {},
   "outputs": [],
   "source": []
  },
  {
   "cell_type": "code",
   "execution_count": 15,
   "id": "2e89ba98-15a1-4702-a71c-cb73a7c456e8",
   "metadata": {},
   "outputs": [],
   "source": [
    "l = 1,2,3,4,5,6,7,8,9,10"
   ]
  },
  {
   "cell_type": "code",
   "execution_count": 16,
   "id": "f4b50e27-8b95-4ddc-9578-5508dc807b13",
   "metadata": {},
   "outputs": [],
   "source": [
    "def sqr(x):\n",
    "    return x**2 "
   ]
  },
  {
   "cell_type": "code",
   "execution_count": 4,
   "id": "ca9f5c50-d779-4a9f-ab7a-c5eba1702285",
   "metadata": {},
   "outputs": [
    {
     "data": {
      "text/plain": [
       "[1, 4, 9, 16, 25, 36, 49, 64, 81, 100]"
      ]
     },
     "execution_count": 4,
     "metadata": {},
     "output_type": "execute_result"
    }
   ],
   "source": [
    "list(map(sqr,l))"
   ]
  },
  {
   "cell_type": "code",
   "execution_count": 7,
   "id": "8c05372c-3f63-49b2-8e05-09d16fac6f70",
   "metadata": {},
   "outputs": [],
   "source": [
    "def cube(z):\n",
    "    return z**3"
   ]
  },
  {
   "cell_type": "code",
   "execution_count": 8,
   "id": "817f9151-27c4-4054-a739-0efa0608daa0",
   "metadata": {},
   "outputs": [
    {
     "data": {
      "text/plain": [
       "[1, 8, 27, 64, 125, 216, 343, 512, 729, 1000]"
      ]
     },
     "execution_count": 8,
     "metadata": {},
     "output_type": "execute_result"
    }
   ],
   "source": [
    "list(map(cube,l))"
   ]
  },
  {
   "cell_type": "code",
   "execution_count": 33,
   "id": "c4cee2af-d2ea-415d-a49c-e756e06a50d2",
   "metadata": {},
   "outputs": [],
   "source": []
  },
  {
   "cell_type": "code",
   "execution_count": 36,
   "id": "bd568f00-e45f-4546-9388-70e29a9d79fd",
   "metadata": {},
   "outputs": [],
   "source": [
    "even_number =list(filter(lambda a:a%2 ==0 ,l))"
   ]
  },
  {
   "cell_type": "code",
   "execution_count": null,
   "id": "6e09c7f5-ea53-4cf0-b519-8d7762930bdb",
   "metadata": {},
   "outputs": [],
   "source": []
  },
  {
   "cell_type": "code",
   "execution_count": null,
   "id": "52e1321d-e136-4bb9-a0a3-6c66b859b631",
   "metadata": {},
   "outputs": [],
   "source": []
  },
  {
   "cell_type": "code",
   "execution_count": 37,
   "id": "146d6f7b-079f-465c-ac5f-5bf4e8611e23",
   "metadata": {},
   "outputs": [
    {
     "name": "stdout",
     "output_type": "stream",
     "text": [
      "2\n",
      "4\n",
      "6\n",
      "8\n",
      "10\n"
     ]
    }
   ],
   "source": [
    "for i in even_number:\n",
    "    print(i)"
   ]
  },
  {
   "cell_type": "code",
   "execution_count": 53,
   "id": "5a156678-f8db-4725-b8b3-92ee2bf3f81d",
   "metadata": {},
   "outputs": [],
   "source": [
    "l1= [1,2,3,4,5,6,7,8,9,10]"
   ]
  },
  {
   "cell_type": "code",
   "execution_count": 57,
   "id": "a8c5e709-3421-4b96-9239-97311c5fc80c",
   "metadata": {},
   "outputs": [],
   "source": [
    "odd_number= list(filter( lambda x:x%2 != 0,l1))"
   ]
  },
  {
   "cell_type": "code",
   "execution_count": 58,
   "id": "397947d6-1bd9-478a-a012-8b0057ee0db5",
   "metadata": {},
   "outputs": [
    {
     "name": "stdout",
     "output_type": "stream",
     "text": [
      "[1, 3, 5, 7, 9]\n"
     ]
    }
   ],
   "source": [
    "print(odd_number)"
   ]
  },
  {
   "cell_type": "code",
   "execution_count": 59,
   "id": "10c485f3-54c2-4bb7-97b2-91d263a05ed4",
   "metadata": {},
   "outputs": [],
   "source": [
    "l2 = [1,2,3,4,5,6,-1,-3,-4,-5,0] "
   ]
  },
  {
   "cell_type": "code",
   "execution_count": 65,
   "id": "9292d798-1a31-43a0-b542-74940eb3cfdb",
   "metadata": {},
   "outputs": [
    {
     "data": {
      "text/plain": [
       "[-5, -4, -3, -1, 0, 1, 2, 3, 4, 5, 6]"
      ]
     },
     "execution_count": 65,
     "metadata": {},
     "output_type": "execute_result"
    }
   ],
   "source": [
    "sorted(filter(lambda x:x>-10,l2))"
   ]
  },
  {
   "cell_type": "code",
   "execution_count": null,
   "id": "64920b8c-ccee-4185-b39b-08add87c6f4c",
   "metadata": {},
   "outputs": [],
   "source": []
  }
 ],
 "metadata": {
  "kernelspec": {
   "display_name": "Python 3 (ipykernel)",
   "language": "python",
   "name": "python3"
  },
  "language_info": {
   "codemirror_mode": {
    "name": "ipython",
    "version": 3
   },
   "file_extension": ".py",
   "mimetype": "text/x-python",
   "name": "python",
   "nbconvert_exporter": "python",
   "pygments_lexer": "ipython3",
   "version": "3.10.8"
  }
 },
 "nbformat": 4,
 "nbformat_minor": 5
}
